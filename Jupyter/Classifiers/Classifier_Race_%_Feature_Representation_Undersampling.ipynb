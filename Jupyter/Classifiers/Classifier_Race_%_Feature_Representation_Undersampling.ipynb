{
 "cells": [
  {
   "cell_type": "markdown",
   "metadata": {},
   "source": [
    "## Imports"
   ]
  },
  {
   "cell_type": "code",
   "execution_count": 19,
   "metadata": {},
   "outputs": [],
   "source": [
    "# System functionality\n",
    "import sys\n",
    "sys.path.append('..')\n",
    "\n",
    "import glob\n",
    "import os\n",
    "import numpy as np \n",
    "import pandas as pd\n",
    "import matplotlib as mpl\n",
    "import matplotlib.pyplot as plt\n",
    "import matplotlib.font_manager as font_manager\n",
    "import seaborn as sns\n",
    "import graphviz\n",
    "import math as math\n",
    "import json\n",
    "import cv2\n",
    "import matplotlib.image as mpimg\n",
    "from sklearn.model_selection import train_test_split\n",
    "from sympy import *\n",
    "from skimage import data, io, filters\n",
    "from numpy import linspace\n",
    "from numpy.core.umath import pi\n",
    "from matplotlib.ticker import FuncFormatter\n",
    "from matplotlib.font_manager import FontProperties\n",
    "from emoji_extractor.extract import Extractor\n",
    "from emojipedia import Emojipedia\n",
    "from skimage import io\n",
    "from sklearn.preprocessing import Normalizer\n",
    "from sklearn.naive_bayes import GaussianNB\n",
    "from sklearn.svm import SVC\n",
    "from sklearn.metrics.pairwise import chi2_kernel\n",
    "#from utils.plotter import plot_SVM_DecisionBoundary\n",
    "from sklearn.model_selection import train_test_split\n",
    "from sklearn.svm import LinearSVC, SVC\n",
    "from sklearn.neighbors import KNeighborsClassifier\n",
    "from sklearn.metrics import confusion_matrix, log_loss, f1_score\n",
    "from pandas.api.types import CategoricalDtype\n",
    "from sklearn.dummy import DummyClassifier\n",
    "from sklearn.metrics import accuracy_score\n",
    "from sklearn.linear_model import LogisticRegression\n",
    "from sklearn import preprocessing\n",
    "from sklearn.model_selection import KFold\n",
    "from sklearn.model_selection import cross_val_score\n",
    "from sklearn.ensemble import RandomForestClassifier\n",
    "from sklearn.model_selection import StratifiedShuffleSplit\n",
    "#from imblearn.over_sampling import RandomOverSample\n",
    "from imblearn.under_sampling import RandomUnderSampler"
   ]
  },
  {
   "cell_type": "markdown",
   "metadata": {},
   "source": [
    "## Confusion Matrix Function"
   ]
  },
  {
   "cell_type": "code",
   "execution_count": 2,
   "metadata": {},
   "outputs": [],
   "source": [
    "# Plot Confusion Matrix function\n",
    "def plot_confusion_matrix(cm, classes=None, title='Confusion matrix'):\n",
    "    \"\"\"Plots a confusion matrix.\"\"\"\n",
    "    if classes is not None:\n",
    "        sns.heatmap(cm, xticklabels=classes, yticklabels=classes, vmin=0., vmax=1., annot=True)\n",
    "    else:\n",
    "        sns.heatmap(cm, vmin=0., vmax=1.)\n",
    "    plt.title(title,fontsize =17)\n",
    "    plt.ylabel('True label',fontsize =14)\n",
    "    plt.xlabel('Predicted label',fontsize =14)\n",
    "    plt.yticks(fontsize =10)\n",
    "    plt.xticks(fontsize =10)\n"
   ]
  },
  {
   "cell_type": "markdown",
   "metadata": {},
   "source": [
    "## Count Races Function"
   ]
  },
  {
   "cell_type": "code",
   "execution_count": 4,
   "metadata": {},
   "outputs": [],
   "source": [
    "# Count races\n",
    "def countRaces(race_counts_df,attribute=True):\n",
    "    \n",
    "    whites_count = 0\n",
    "    blacks_count = 0\n",
    "    asian_count = 0\n",
    "    hispanic_count = 0\n",
    "    other_count = 0\n",
    "    \n",
    "    if(attribute==True):\n",
    "        for i in race_counts_df['ethnicity']:\n",
    "            if (i == 'white')|(i == 0):\n",
    "                whites_count = whites_count+1\n",
    "            if (i == 'black')|(i == 1):\n",
    "                blacks_count = blacks_count+1\n",
    "            if (i == 'asian')|(i == 2):\n",
    "                asian_count = asian_count+1\n",
    "            if (i == 'hispanic')|(i == 3):\n",
    "                hispanic_count = hispanic_count+1\n",
    "            if (i == 'other')|(i == 4):\n",
    "                other_count = other_count+1\n",
    "    if(attribute==False):\n",
    "        for i in race_counts_df:\n",
    "            if (i == 'white')|(i == 0):\n",
    "                whites_count = whites_count+1\n",
    "            if (i == 'black')|(i == 1):\n",
    "                blacks_count = blacks_count+1\n",
    "            if (i == 'asian')|(i == 2):\n",
    "                asian_count = asian_count+1\n",
    "            if (i == 'hispanic')|(i == 3):\n",
    "                hispanic_count = hispanic_count+1\n",
    "            if (i == 'other')|(i == 4):\n",
    "                other_count = other_count+1\n",
    "\n",
    "    print(\"Whites: {}\".format(whites_count))\n",
    "    print(\"Blacks: {}\".format(blacks_count)) \n",
    "    print(\"Asians: {}\".format(asian_count))\n",
    "    print(\"Hispanics: {}\".format(hispanic_count))\n",
    "    print(\"Other: {}\".format(other_count))"
   ]
  },
  {
   "cell_type": "markdown",
   "metadata": {},
   "source": [
    "## Load csvs"
   ]
  },
  {
   "cell_type": "code",
   "execution_count": 5,
   "metadata": {},
   "outputs": [],
   "source": [
    "path_counts_ran = '/home/stelios/Desktop/Honours Project/Samples/per_user_emoji_counts/random_per_user_emoji_counts.csv'\n",
    "path_users_ran = '/home/stelios/Desktop/Honours Project/Samples/user_data/ran.csv'\n",
    "counts_df_ran = pd.read_csv(path_counts_ran,index_col=None, header=0, low_memory = False)\n",
    "users_df_ran = pd.read_csv(path_users_ran,index_col=None, header=0, low_memory = False)\n",
    "\n",
    "path_counts_lon = '/home/stelios/Desktop/Honours Project/Samples/per_user_emoji_counts/london_per_user_emoji_counts.csv'\n",
    "path_users_lon = '/home/stelios/Desktop/Honours Project/Samples/user_data/lon.csv'\n",
    "counts_df_lon = pd.read_csv(path_counts_lon,index_col=None, header=0, low_memory = False)\n",
    "users_df_lon = pd.read_csv(path_users_lon,index_col=None, header=0, low_memory = False)\n",
    "\n",
    "path_counts_joh = '/home/stelios/Desktop/Honours Project/Samples/per_user_emoji_counts/joh_per_user_emoji_counts.csv'\n",
    "path_users_joh = '/home/stelios/Desktop/Honours Project/Samples/user_data/joh.csv'\n",
    "counts_df_joh = pd.read_csv(path_counts_joh,index_col=None, header=0, low_memory = False)\n",
    "users_df_joh = pd.read_csv(path_users_joh,index_col=None, header=0, low_memory = False)\n",
    "\n",
    "path_counts_nyc = '/home/stelios/Desktop/Honours Project/Samples/per_user_emoji_counts/nyc_per_user_emoji_counts.csv'\n",
    "path_users_nyc = '/home/stelios/Desktop/Honours Project/Samples/user_data/nyc.csv'\n",
    "counts_df_nyc = pd.read_csv(path_counts_nyc,index_col=None, header=0, low_memory = False)\n",
    "users_df_nyc = pd.read_csv(path_users_nyc,index_col=None, header=0, low_memory = False)"
   ]
  },
  {
   "cell_type": "code",
   "execution_count": 6,
   "metadata": {},
   "outputs": [
    {
     "name": "stdout",
     "output_type": "stream",
     "text": [
      "(40000, 2579)\n",
      "(40000, 28)\n"
     ]
    }
   ],
   "source": [
    "# Append counts from all Locations\n",
    "counts = counts_df_ran.append(counts_df_lon, sort=False,ignore_index=True).append(counts_df_joh, sort=False,ignore_index=True).append(counts_df_nyc, sort=False,ignore_index=True)\n",
    "print(counts.shape)\n",
    "\n",
    "# Append users from all Locations\n",
    "users = users_df_ran.append(users_df_lon, sort=False,ignore_index=True).append(users_df_joh, sort=False,ignore_index=True).append(users_df_nyc, sort=False,ignore_index=True)\n",
    "print(users.shape)\n",
    "\n",
    "# Fill NaN with 0.0\n",
    "counts = counts.fillna(0.0)"
   ]
  },
  {
   "cell_type": "code",
   "execution_count": 7,
   "metadata": {
    "scrolled": true
   },
   "outputs": [
    {
     "data": {
      "text/html": [
       "<div>\n",
       "<style scoped>\n",
       "    .dataframe tbody tr th:only-of-type {\n",
       "        vertical-align: middle;\n",
       "    }\n",
       "\n",
       "    .dataframe tbody tr th {\n",
       "        vertical-align: top;\n",
       "    }\n",
       "\n",
       "    .dataframe thead th {\n",
       "        text-align: right;\n",
       "    }\n",
       "</style>\n",
       "<table border=\"1\" class=\"dataframe\">\n",
       "  <thead>\n",
       "    <tr style=\"text-align: right;\">\n",
       "      <th></th>\n",
       "      <th>👨🏿‍🔬</th>\n",
       "      <th>🚵🏽‍♂️</th>\n",
       "      <th>👨🏾‍🎤</th>\n",
       "      <th>👩🏾‍🏫</th>\n",
       "      <th>🙍🏽‍♂️</th>\n",
       "      <th>🇮🇨</th>\n",
       "      <th>👳🏾‍♀️</th>\n",
       "      <th>👨🏾‍🏫</th>\n",
       "      <th>🦠</th>\n",
       "      <th>💂🏻‍♀️</th>\n",
       "      <th>...</th>\n",
       "      <th>🧗🏻‍♂️</th>\n",
       "      <th>👩🏾‍🚒</th>\n",
       "      <th>👩🏿‍🎨</th>\n",
       "      <th>👨🏿‍✈️</th>\n",
       "      <th>👰🏿</th>\n",
       "      <th>⛹🏿‍♂️</th>\n",
       "      <th>🤹🏽‍♂️</th>\n",
       "      <th>🧜🏿‍♂️</th>\n",
       "      <th>🇵🇲</th>\n",
       "      <th>🇬🇺</th>\n",
       "    </tr>\n",
       "  </thead>\n",
       "  <tbody>\n",
       "    <tr>\n",
       "      <th>count</th>\n",
       "      <td>40000.000000</td>\n",
       "      <td>40000.000000</td>\n",
       "      <td>40000.000000</td>\n",
       "      <td>40000.000000</td>\n",
       "      <td>40000.000000</td>\n",
       "      <td>40000.000000</td>\n",
       "      <td>40000.00000</td>\n",
       "      <td>40000.0000</td>\n",
       "      <td>40000.0000</td>\n",
       "      <td>40000.000000</td>\n",
       "      <td>...</td>\n",
       "      <td>40000.000000</td>\n",
       "      <td>40000.000000</td>\n",
       "      <td>40000.000000</td>\n",
       "      <td>40000.000000</td>\n",
       "      <td>40000.000000</td>\n",
       "      <td>40000.0000</td>\n",
       "      <td>40000.0000</td>\n",
       "      <td>40000.000000</td>\n",
       "      <td>40000.000000</td>\n",
       "      <td>40000.00000</td>\n",
       "    </tr>\n",
       "    <tr>\n",
       "      <th>mean</th>\n",
       "      <td>0.000025</td>\n",
       "      <td>0.000050</td>\n",
       "      <td>0.000225</td>\n",
       "      <td>0.000300</td>\n",
       "      <td>0.000225</td>\n",
       "      <td>0.000075</td>\n",
       "      <td>0.00020</td>\n",
       "      <td>0.0001</td>\n",
       "      <td>0.0001</td>\n",
       "      <td>0.000050</td>\n",
       "      <td>...</td>\n",
       "      <td>0.000050</td>\n",
       "      <td>0.000075</td>\n",
       "      <td>0.000100</td>\n",
       "      <td>0.000100</td>\n",
       "      <td>0.000125</td>\n",
       "      <td>0.0002</td>\n",
       "      <td>0.0002</td>\n",
       "      <td>0.000225</td>\n",
       "      <td>0.000075</td>\n",
       "      <td>0.00005</td>\n",
       "    </tr>\n",
       "    <tr>\n",
       "      <th>std</th>\n",
       "      <td>0.005000</td>\n",
       "      <td>0.007071</td>\n",
       "      <td>0.035707</td>\n",
       "      <td>0.031622</td>\n",
       "      <td>0.022912</td>\n",
       "      <td>0.011180</td>\n",
       "      <td>0.01581</td>\n",
       "      <td>0.0100</td>\n",
       "      <td>0.0100</td>\n",
       "      <td>0.007071</td>\n",
       "      <td>...</td>\n",
       "      <td>0.007071</td>\n",
       "      <td>0.015000</td>\n",
       "      <td>0.015811</td>\n",
       "      <td>0.015811</td>\n",
       "      <td>0.018028</td>\n",
       "      <td>0.0400</td>\n",
       "      <td>0.0400</td>\n",
       "      <td>0.045000</td>\n",
       "      <td>0.015000</td>\n",
       "      <td>0.01000</td>\n",
       "    </tr>\n",
       "    <tr>\n",
       "      <th>min</th>\n",
       "      <td>0.000000</td>\n",
       "      <td>0.000000</td>\n",
       "      <td>0.000000</td>\n",
       "      <td>0.000000</td>\n",
       "      <td>0.000000</td>\n",
       "      <td>0.000000</td>\n",
       "      <td>0.00000</td>\n",
       "      <td>0.0000</td>\n",
       "      <td>0.0000</td>\n",
       "      <td>0.000000</td>\n",
       "      <td>...</td>\n",
       "      <td>0.000000</td>\n",
       "      <td>0.000000</td>\n",
       "      <td>0.000000</td>\n",
       "      <td>0.000000</td>\n",
       "      <td>0.000000</td>\n",
       "      <td>0.0000</td>\n",
       "      <td>0.0000</td>\n",
       "      <td>0.000000</td>\n",
       "      <td>0.000000</td>\n",
       "      <td>0.00000</td>\n",
       "    </tr>\n",
       "    <tr>\n",
       "      <th>25%</th>\n",
       "      <td>0.000000</td>\n",
       "      <td>0.000000</td>\n",
       "      <td>0.000000</td>\n",
       "      <td>0.000000</td>\n",
       "      <td>0.000000</td>\n",
       "      <td>0.000000</td>\n",
       "      <td>0.00000</td>\n",
       "      <td>0.0000</td>\n",
       "      <td>0.0000</td>\n",
       "      <td>0.000000</td>\n",
       "      <td>...</td>\n",
       "      <td>0.000000</td>\n",
       "      <td>0.000000</td>\n",
       "      <td>0.000000</td>\n",
       "      <td>0.000000</td>\n",
       "      <td>0.000000</td>\n",
       "      <td>0.0000</td>\n",
       "      <td>0.0000</td>\n",
       "      <td>0.000000</td>\n",
       "      <td>0.000000</td>\n",
       "      <td>0.00000</td>\n",
       "    </tr>\n",
       "    <tr>\n",
       "      <th>50%</th>\n",
       "      <td>0.000000</td>\n",
       "      <td>0.000000</td>\n",
       "      <td>0.000000</td>\n",
       "      <td>0.000000</td>\n",
       "      <td>0.000000</td>\n",
       "      <td>0.000000</td>\n",
       "      <td>0.00000</td>\n",
       "      <td>0.0000</td>\n",
       "      <td>0.0000</td>\n",
       "      <td>0.000000</td>\n",
       "      <td>...</td>\n",
       "      <td>0.000000</td>\n",
       "      <td>0.000000</td>\n",
       "      <td>0.000000</td>\n",
       "      <td>0.000000</td>\n",
       "      <td>0.000000</td>\n",
       "      <td>0.0000</td>\n",
       "      <td>0.0000</td>\n",
       "      <td>0.000000</td>\n",
       "      <td>0.000000</td>\n",
       "      <td>0.00000</td>\n",
       "    </tr>\n",
       "    <tr>\n",
       "      <th>75%</th>\n",
       "      <td>0.000000</td>\n",
       "      <td>0.000000</td>\n",
       "      <td>0.000000</td>\n",
       "      <td>0.000000</td>\n",
       "      <td>0.000000</td>\n",
       "      <td>0.000000</td>\n",
       "      <td>0.00000</td>\n",
       "      <td>0.0000</td>\n",
       "      <td>0.0000</td>\n",
       "      <td>0.000000</td>\n",
       "      <td>...</td>\n",
       "      <td>0.000000</td>\n",
       "      <td>0.000000</td>\n",
       "      <td>0.000000</td>\n",
       "      <td>0.000000</td>\n",
       "      <td>0.000000</td>\n",
       "      <td>0.0000</td>\n",
       "      <td>0.0000</td>\n",
       "      <td>0.000000</td>\n",
       "      <td>0.000000</td>\n",
       "      <td>0.00000</td>\n",
       "    </tr>\n",
       "    <tr>\n",
       "      <th>max</th>\n",
       "      <td>1.000000</td>\n",
       "      <td>1.000000</td>\n",
       "      <td>7.000000</td>\n",
       "      <td>5.000000</td>\n",
       "      <td>3.000000</td>\n",
       "      <td>2.000000</td>\n",
       "      <td>2.00000</td>\n",
       "      <td>1.0000</td>\n",
       "      <td>1.0000</td>\n",
       "      <td>1.000000</td>\n",
       "      <td>...</td>\n",
       "      <td>1.000000</td>\n",
       "      <td>3.000000</td>\n",
       "      <td>3.000000</td>\n",
       "      <td>3.000000</td>\n",
       "      <td>3.000000</td>\n",
       "      <td>8.0000</td>\n",
       "      <td>8.0000</td>\n",
       "      <td>9.000000</td>\n",
       "      <td>3.000000</td>\n",
       "      <td>2.00000</td>\n",
       "    </tr>\n",
       "  </tbody>\n",
       "</table>\n",
       "<p>8 rows × 2579 columns</p>\n",
       "</div>"
      ],
      "text/plain": [
       "               👨🏿‍🔬         🚵🏽‍♂️          👨🏾‍🎤          👩🏾‍🏫         🙍🏽‍♂️  \\\n",
       "count  40000.000000  40000.000000  40000.000000  40000.000000  40000.000000   \n",
       "mean       0.000025      0.000050      0.000225      0.000300      0.000225   \n",
       "std        0.005000      0.007071      0.035707      0.031622      0.022912   \n",
       "min        0.000000      0.000000      0.000000      0.000000      0.000000   \n",
       "25%        0.000000      0.000000      0.000000      0.000000      0.000000   \n",
       "50%        0.000000      0.000000      0.000000      0.000000      0.000000   \n",
       "75%        0.000000      0.000000      0.000000      0.000000      0.000000   \n",
       "max        1.000000      1.000000      7.000000      5.000000      3.000000   \n",
       "\n",
       "                 🇮🇨        👳🏾‍♀️        👨🏾‍🏫           🦠         💂🏻‍♀️  \\\n",
       "count  40000.000000  40000.00000  40000.0000  40000.0000  40000.000000   \n",
       "mean       0.000075      0.00020      0.0001      0.0001      0.000050   \n",
       "std        0.011180      0.01581      0.0100      0.0100      0.007071   \n",
       "min        0.000000      0.00000      0.0000      0.0000      0.000000   \n",
       "25%        0.000000      0.00000      0.0000      0.0000      0.000000   \n",
       "50%        0.000000      0.00000      0.0000      0.0000      0.000000   \n",
       "75%        0.000000      0.00000      0.0000      0.0000      0.000000   \n",
       "max        2.000000      2.00000      1.0000      1.0000      1.000000   \n",
       "\n",
       "          ...              🧗🏻‍♂️          👩🏾‍🚒          👩🏿‍🎨         👨🏿‍✈️  \\\n",
       "count     ...       40000.000000  40000.000000  40000.000000  40000.000000   \n",
       "mean      ...           0.000050      0.000075      0.000100      0.000100   \n",
       "std       ...           0.007071      0.015000      0.015811      0.015811   \n",
       "min       ...           0.000000      0.000000      0.000000      0.000000   \n",
       "25%       ...           0.000000      0.000000      0.000000      0.000000   \n",
       "50%       ...           0.000000      0.000000      0.000000      0.000000   \n",
       "75%       ...           0.000000      0.000000      0.000000      0.000000   \n",
       "max       ...           1.000000      3.000000      3.000000      3.000000   \n",
       "\n",
       "                 👰🏿       ⛹🏿‍♂️       🤹🏽‍♂️         🧜🏿‍♂️            🇵🇲  \\\n",
       "count  40000.000000  40000.0000  40000.0000  40000.000000  40000.000000   \n",
       "mean       0.000125      0.0002      0.0002      0.000225      0.000075   \n",
       "std        0.018028      0.0400      0.0400      0.045000      0.015000   \n",
       "min        0.000000      0.0000      0.0000      0.000000      0.000000   \n",
       "25%        0.000000      0.0000      0.0000      0.000000      0.000000   \n",
       "50%        0.000000      0.0000      0.0000      0.000000      0.000000   \n",
       "75%        0.000000      0.0000      0.0000      0.000000      0.000000   \n",
       "max        3.000000      8.0000      8.0000      9.000000      3.000000   \n",
       "\n",
       "                🇬🇺  \n",
       "count  40000.00000  \n",
       "mean       0.00005  \n",
       "std        0.01000  \n",
       "min        0.00000  \n",
       "25%        0.00000  \n",
       "50%        0.00000  \n",
       "75%        0.00000  \n",
       "max        2.00000  \n",
       "\n",
       "[8 rows x 2579 columns]"
      ]
     },
     "execution_count": 7,
     "metadata": {},
     "output_type": "execute_result"
    }
   ],
   "source": [
    "del counts_df_ran\n",
    "del counts_df_lon\n",
    "del counts_df_joh\n",
    "del counts_df_nyc\n",
    "\n",
    "# Preview counts\n",
    "counts.describe()"
   ]
  },
  {
   "cell_type": "markdown",
   "metadata": {},
   "source": [
    "## % Feuture representation"
   ]
  },
  {
   "cell_type": "code",
   "execution_count": 8,
   "metadata": {},
   "outputs": [
    {
     "data": {
      "text/html": [
       "<div>\n",
       "<style scoped>\n",
       "    .dataframe tbody tr th:only-of-type {\n",
       "        vertical-align: middle;\n",
       "    }\n",
       "\n",
       "    .dataframe tbody tr th {\n",
       "        vertical-align: top;\n",
       "    }\n",
       "\n",
       "    .dataframe thead th {\n",
       "        text-align: right;\n",
       "    }\n",
       "</style>\n",
       "<table border=\"1\" class=\"dataframe\">\n",
       "  <thead>\n",
       "    <tr style=\"text-align: right;\">\n",
       "      <th></th>\n",
       "      <th>👨🏿‍🔬</th>\n",
       "      <th>🚵🏽‍♂️</th>\n",
       "      <th>👨🏾‍🎤</th>\n",
       "      <th>👩🏾‍🏫</th>\n",
       "      <th>🙍🏽‍♂️</th>\n",
       "      <th>🇮🇨</th>\n",
       "      <th>👳🏾‍♀️</th>\n",
       "      <th>👨🏾‍🏫</th>\n",
       "      <th>🦠</th>\n",
       "      <th>💂🏻‍♀️</th>\n",
       "      <th>...</th>\n",
       "      <th>🧗🏻‍♂️</th>\n",
       "      <th>👩🏾‍🚒</th>\n",
       "      <th>👩🏿‍🎨</th>\n",
       "      <th>👨🏿‍✈️</th>\n",
       "      <th>👰🏿</th>\n",
       "      <th>⛹🏿‍♂️</th>\n",
       "      <th>🤹🏽‍♂️</th>\n",
       "      <th>🧜🏿‍♂️</th>\n",
       "      <th>🇵🇲</th>\n",
       "      <th>🇬🇺</th>\n",
       "    </tr>\n",
       "  </thead>\n",
       "  <tbody>\n",
       "    <tr>\n",
       "      <th>count</th>\n",
       "      <td>2.722600e+04</td>\n",
       "      <td>2.722600e+04</td>\n",
       "      <td>27226.000000</td>\n",
       "      <td>27226.000000</td>\n",
       "      <td>2.722600e+04</td>\n",
       "      <td>2.722600e+04</td>\n",
       "      <td>2.722600e+04</td>\n",
       "      <td>2.722600e+04</td>\n",
       "      <td>27226.000000</td>\n",
       "      <td>2.722600e+04</td>\n",
       "      <td>...</td>\n",
       "      <td>2.722600e+04</td>\n",
       "      <td>2.722600e+04</td>\n",
       "      <td>27226.000000</td>\n",
       "      <td>2.722600e+04</td>\n",
       "      <td>27226.000000</td>\n",
       "      <td>27226.000000</td>\n",
       "      <td>2.722600e+04</td>\n",
       "      <td>27226.000000</td>\n",
       "      <td>2.722600e+04</td>\n",
       "      <td>2.722600e+04</td>\n",
       "    </tr>\n",
       "    <tr>\n",
       "      <th>mean</th>\n",
       "      <td>2.836262e-08</td>\n",
       "      <td>1.853382e-07</td>\n",
       "      <td>0.000004</td>\n",
       "      <td>0.000001</td>\n",
       "      <td>4.870087e-07</td>\n",
       "      <td>1.662974e-07</td>\n",
       "      <td>3.372688e-07</td>\n",
       "      <td>6.847104e-07</td>\n",
       "      <td>0.000001</td>\n",
       "      <td>4.770146e-07</td>\n",
       "      <td>...</td>\n",
       "      <td>3.034764e-07</td>\n",
       "      <td>2.123098e-07</td>\n",
       "      <td>0.000001</td>\n",
       "      <td>7.417875e-07</td>\n",
       "      <td>0.000004</td>\n",
       "      <td>0.000007</td>\n",
       "      <td>4.848792e-07</td>\n",
       "      <td>0.000001</td>\n",
       "      <td>7.395221e-07</td>\n",
       "      <td>1.958912e-07</td>\n",
       "    </tr>\n",
       "    <tr>\n",
       "      <th>std</th>\n",
       "      <td>4.679919e-06</td>\n",
       "      <td>2.930671e-05</td>\n",
       "      <td>0.000589</td>\n",
       "      <td>0.000101</td>\n",
       "      <td>3.824005e-05</td>\n",
       "      <td>1.959546e-05</td>\n",
       "      <td>2.310104e-05</td>\n",
       "      <td>7.042348e-05</td>\n",
       "      <td>0.000108</td>\n",
       "      <td>7.168357e-05</td>\n",
       "      <td>...</td>\n",
       "      <td>4.115603e-05</td>\n",
       "      <td>3.503176e-05</td>\n",
       "      <td>0.000146</td>\n",
       "      <td>1.045872e-04</td>\n",
       "      <td>0.000638</td>\n",
       "      <td>0.001128</td>\n",
       "      <td>8.000653e-05</td>\n",
       "      <td>0.000192</td>\n",
       "      <td>1.220234e-04</td>\n",
       "      <td>3.232264e-05</td>\n",
       "    </tr>\n",
       "    <tr>\n",
       "      <th>min</th>\n",
       "      <td>0.000000e+00</td>\n",
       "      <td>0.000000e+00</td>\n",
       "      <td>0.000000</td>\n",
       "      <td>0.000000</td>\n",
       "      <td>0.000000e+00</td>\n",
       "      <td>0.000000e+00</td>\n",
       "      <td>0.000000e+00</td>\n",
       "      <td>0.000000e+00</td>\n",
       "      <td>0.000000</td>\n",
       "      <td>0.000000e+00</td>\n",
       "      <td>...</td>\n",
       "      <td>0.000000e+00</td>\n",
       "      <td>0.000000e+00</td>\n",
       "      <td>0.000000</td>\n",
       "      <td>0.000000e+00</td>\n",
       "      <td>0.000000</td>\n",
       "      <td>0.000000</td>\n",
       "      <td>0.000000e+00</td>\n",
       "      <td>0.000000</td>\n",
       "      <td>0.000000e+00</td>\n",
       "      <td>0.000000e+00</td>\n",
       "    </tr>\n",
       "    <tr>\n",
       "      <th>25%</th>\n",
       "      <td>0.000000e+00</td>\n",
       "      <td>0.000000e+00</td>\n",
       "      <td>0.000000</td>\n",
       "      <td>0.000000</td>\n",
       "      <td>0.000000e+00</td>\n",
       "      <td>0.000000e+00</td>\n",
       "      <td>0.000000e+00</td>\n",
       "      <td>0.000000e+00</td>\n",
       "      <td>0.000000</td>\n",
       "      <td>0.000000e+00</td>\n",
       "      <td>...</td>\n",
       "      <td>0.000000e+00</td>\n",
       "      <td>0.000000e+00</td>\n",
       "      <td>0.000000</td>\n",
       "      <td>0.000000e+00</td>\n",
       "      <td>0.000000</td>\n",
       "      <td>0.000000</td>\n",
       "      <td>0.000000e+00</td>\n",
       "      <td>0.000000</td>\n",
       "      <td>0.000000e+00</td>\n",
       "      <td>0.000000e+00</td>\n",
       "    </tr>\n",
       "    <tr>\n",
       "      <th>50%</th>\n",
       "      <td>0.000000e+00</td>\n",
       "      <td>0.000000e+00</td>\n",
       "      <td>0.000000</td>\n",
       "      <td>0.000000</td>\n",
       "      <td>0.000000e+00</td>\n",
       "      <td>0.000000e+00</td>\n",
       "      <td>0.000000e+00</td>\n",
       "      <td>0.000000e+00</td>\n",
       "      <td>0.000000</td>\n",
       "      <td>0.000000e+00</td>\n",
       "      <td>...</td>\n",
       "      <td>0.000000e+00</td>\n",
       "      <td>0.000000e+00</td>\n",
       "      <td>0.000000</td>\n",
       "      <td>0.000000e+00</td>\n",
       "      <td>0.000000</td>\n",
       "      <td>0.000000</td>\n",
       "      <td>0.000000e+00</td>\n",
       "      <td>0.000000</td>\n",
       "      <td>0.000000e+00</td>\n",
       "      <td>0.000000e+00</td>\n",
       "    </tr>\n",
       "    <tr>\n",
       "      <th>75%</th>\n",
       "      <td>0.000000e+00</td>\n",
       "      <td>0.000000e+00</td>\n",
       "      <td>0.000000</td>\n",
       "      <td>0.000000</td>\n",
       "      <td>0.000000e+00</td>\n",
       "      <td>0.000000e+00</td>\n",
       "      <td>0.000000e+00</td>\n",
       "      <td>0.000000e+00</td>\n",
       "      <td>0.000000</td>\n",
       "      <td>0.000000e+00</td>\n",
       "      <td>...</td>\n",
       "      <td>0.000000e+00</td>\n",
       "      <td>0.000000e+00</td>\n",
       "      <td>0.000000</td>\n",
       "      <td>0.000000e+00</td>\n",
       "      <td>0.000000</td>\n",
       "      <td>0.000000</td>\n",
       "      <td>0.000000e+00</td>\n",
       "      <td>0.000000</td>\n",
       "      <td>0.000000e+00</td>\n",
       "      <td>0.000000e+00</td>\n",
       "    </tr>\n",
       "    <tr>\n",
       "      <th>max</th>\n",
       "      <td>7.722008e-04</td>\n",
       "      <td>4.830918e-03</td>\n",
       "      <td>0.097222</td>\n",
       "      <td>0.012594</td>\n",
       "      <td>3.984064e-03</td>\n",
       "      <td>2.583979e-03</td>\n",
       "      <td>2.403846e-03</td>\n",
       "      <td>8.474576e-03</td>\n",
       "      <td>0.013699</td>\n",
       "      <td>1.176471e-02</td>\n",
       "      <td>...</td>\n",
       "      <td>6.578947e-03</td>\n",
       "      <td>5.780347e-03</td>\n",
       "      <td>0.023438</td>\n",
       "      <td>1.694915e-02</td>\n",
       "      <td>0.105263</td>\n",
       "      <td>0.186047</td>\n",
       "      <td>1.320132e-02</td>\n",
       "      <td>0.031690</td>\n",
       "      <td>2.013423e-02</td>\n",
       "      <td>5.333333e-03</td>\n",
       "    </tr>\n",
       "  </tbody>\n",
       "</table>\n",
       "<p>8 rows × 2579 columns</p>\n",
       "</div>"
      ],
      "text/plain": [
       "               👨🏿‍🔬         🚵🏽‍♂️          👨🏾‍🎤          👩🏾‍🏫         🙍🏽‍♂️  \\\n",
       "count  2.722600e+04  2.722600e+04  27226.000000  27226.000000  2.722600e+04   \n",
       "mean   2.836262e-08  1.853382e-07      0.000004      0.000001  4.870087e-07   \n",
       "std    4.679919e-06  2.930671e-05      0.000589      0.000101  3.824005e-05   \n",
       "min    0.000000e+00  0.000000e+00      0.000000      0.000000  0.000000e+00   \n",
       "25%    0.000000e+00  0.000000e+00      0.000000      0.000000  0.000000e+00   \n",
       "50%    0.000000e+00  0.000000e+00      0.000000      0.000000  0.000000e+00   \n",
       "75%    0.000000e+00  0.000000e+00      0.000000      0.000000  0.000000e+00   \n",
       "max    7.722008e-04  4.830918e-03      0.097222      0.012594  3.984064e-03   \n",
       "\n",
       "                 🇮🇨         👳🏾‍♀️          👨🏾‍🏫             🦠         💂🏻‍♀️  \\\n",
       "count  2.722600e+04  2.722600e+04  2.722600e+04  27226.000000  2.722600e+04   \n",
       "mean   1.662974e-07  3.372688e-07  6.847104e-07      0.000001  4.770146e-07   \n",
       "std    1.959546e-05  2.310104e-05  7.042348e-05      0.000108  7.168357e-05   \n",
       "min    0.000000e+00  0.000000e+00  0.000000e+00      0.000000  0.000000e+00   \n",
       "25%    0.000000e+00  0.000000e+00  0.000000e+00      0.000000  0.000000e+00   \n",
       "50%    0.000000e+00  0.000000e+00  0.000000e+00      0.000000  0.000000e+00   \n",
       "75%    0.000000e+00  0.000000e+00  0.000000e+00      0.000000  0.000000e+00   \n",
       "max    2.583979e-03  2.403846e-03  8.474576e-03      0.013699  1.176471e-02   \n",
       "\n",
       "           ...              🧗🏻‍♂️          👩🏾‍🚒          👩🏿‍🎨         👨🏿‍✈️  \\\n",
       "count      ...       2.722600e+04  2.722600e+04  27226.000000  2.722600e+04   \n",
       "mean       ...       3.034764e-07  2.123098e-07      0.000001  7.417875e-07   \n",
       "std        ...       4.115603e-05  3.503176e-05      0.000146  1.045872e-04   \n",
       "min        ...       0.000000e+00  0.000000e+00      0.000000  0.000000e+00   \n",
       "25%        ...       0.000000e+00  0.000000e+00      0.000000  0.000000e+00   \n",
       "50%        ...       0.000000e+00  0.000000e+00      0.000000  0.000000e+00   \n",
       "75%        ...       0.000000e+00  0.000000e+00      0.000000  0.000000e+00   \n",
       "max        ...       6.578947e-03  5.780347e-03      0.023438  1.694915e-02   \n",
       "\n",
       "                 👰🏿         ⛹🏿‍♂️         🤹🏽‍♂️         🧜🏿‍♂️            🇵🇲  \\\n",
       "count  27226.000000  27226.000000  2.722600e+04  27226.000000  2.722600e+04   \n",
       "mean       0.000004      0.000007  4.848792e-07      0.000001  7.395221e-07   \n",
       "std        0.000638      0.001128  8.000653e-05      0.000192  1.220234e-04   \n",
       "min        0.000000      0.000000  0.000000e+00      0.000000  0.000000e+00   \n",
       "25%        0.000000      0.000000  0.000000e+00      0.000000  0.000000e+00   \n",
       "50%        0.000000      0.000000  0.000000e+00      0.000000  0.000000e+00   \n",
       "75%        0.000000      0.000000  0.000000e+00      0.000000  0.000000e+00   \n",
       "max        0.105263      0.186047  1.320132e-02      0.031690  2.013423e-02   \n",
       "\n",
       "                 🇬🇺  \n",
       "count  2.722600e+04  \n",
       "mean   1.958912e-07  \n",
       "std    3.232264e-05  \n",
       "min    0.000000e+00  \n",
       "25%    0.000000e+00  \n",
       "50%    0.000000e+00  \n",
       "75%    0.000000e+00  \n",
       "max    5.333333e-03  \n",
       "\n",
       "[8 rows x 2579 columns]"
      ]
     },
     "execution_count": 8,
     "metadata": {},
     "output_type": "execute_result"
    }
   ],
   "source": [
    "# Feature % representation\n",
    "for index, row in counts.iterrows():\n",
    "    counts.loc[index] = counts.loc[index]/counts.loc[index].sum()\n",
    "counts.describe()"
   ]
  },
  {
   "cell_type": "code",
   "execution_count": 9,
   "metadata": {},
   "outputs": [
    {
     "data": {
      "text/plain": [
       "Index(['_unit_id', '_golden', '_unit_state', '_trusted_judgments',\n",
       "       '_last_judgment_at', 'ethnicity', 'ethnicity:confidence', 'gender',\n",
       "       'gender:confidence', 'reason_not_valid', 'reason_not_valid:confidence',\n",
       "       'valid_photo', 'valid_photo:confidence',\n",
       "       'which_icon_most_closely_matches_the_persons_skin_tone',\n",
       "       'which_icon_most_closely_matches_the_persons_skin_tone:confidence',\n",
       "       'ethnicity_gold', 'gender_gold', 'image_url', 'reason_not_valid_gold',\n",
       "       'user_id', 'valid_photo_gold',\n",
       "       'which_icon_most_closely_matches_the_persons_skin_tone_gold',\n",
       "       'orig__golden', 'ethnicity_gold_reason', 'gender_gold_reason',\n",
       "       'reason_not_valid_gold_reason', 'valid_photo_gold_reason',\n",
       "       'which_icon_most_closely_matches_the_persons_skin_tone_gold_reason'],\n",
       "      dtype='object')"
      ]
     },
     "execution_count": 9,
     "metadata": {},
     "output_type": "execute_result"
    }
   ],
   "source": [
    "users.columns.unique()"
   ]
  },
  {
   "cell_type": "markdown",
   "metadata": {},
   "source": [
    "## Add race labels"
   ]
  },
  {
   "cell_type": "code",
   "execution_count": 10,
   "metadata": {},
   "outputs": [],
   "source": [
    "# Add ethnicity column\n",
    "race_counts_df = counts \n",
    "race_counts_df['ethnicity'] = users['ethnicity']\n",
    "#race_counts_df['ethnicity:confidence'] = users['ethnicity:confidence']\n",
    "race_counts_df = race_counts_df.dropna()"
   ]
  },
  {
   "cell_type": "code",
   "execution_count": 13,
   "metadata": {
    "scrolled": true
   },
   "outputs": [],
   "source": [
    "# Preview counts with ethnicity labels\n",
    "\n",
    "#race_counts_df = race_counts_df[race_counts_df['ethnicity:confidence'] > 0.9]"
   ]
  },
  {
   "cell_type": "code",
   "execution_count": 11,
   "metadata": {},
   "outputs": [
    {
     "data": {
      "text/plain": [
       "array(['asian', 'white', 'hispanic', 'black', 'other'], dtype=object)"
      ]
     },
     "execution_count": 11,
     "metadata": {},
     "output_type": "execute_result"
    }
   ],
   "source": [
    "race_counts_df['ethnicity'].unique()"
   ]
  },
  {
   "cell_type": "code",
   "execution_count": 12,
   "metadata": {},
   "outputs": [
    {
     "name": "stdout",
     "output_type": "stream",
     "text": [
      "Whites: 7047\n",
      "Blacks: 6161\n",
      "Asians: 780\n",
      "Hispanics: 328\n",
      "Other: 25\n"
     ]
    }
   ],
   "source": [
    "countRaces(race_counts_df)"
   ]
  },
  {
   "cell_type": "code",
   "execution_count": 13,
   "metadata": {
    "scrolled": true
   },
   "outputs": [
    {
     "name": "stdout",
     "output_type": "stream",
     "text": [
      "Whites: 7047\n",
      "Blacks: 6161\n",
      "Asians: 780\n",
      "Hispanics: 328\n",
      "Other: 0\n"
     ]
    }
   ],
   "source": [
    "# Drop 'other' ethnicity\n",
    "race_counts_df = race_counts_df[race_counts_df.ethnicity != 'other']\n",
    "# Preview counts with ethnicity labels\n",
    "countRaces(race_counts_df)\n"
   ]
  },
  {
   "cell_type": "code",
   "execution_count": 14,
   "metadata": {
    "scrolled": true
   },
   "outputs": [
    {
     "data": {
      "text/plain": [
       "array([2, 0, 3, 1])"
      ]
     },
     "execution_count": 14,
     "metadata": {},
     "output_type": "execute_result"
    }
   ],
   "source": [
    "# Whites -> 0\n",
    "# Blacks -> 1\n",
    "# Asians -> 2\n",
    "# Hispanics -> 3\n",
    "race_counts_df = race_counts_df.replace('white', 0)\n",
    "race_counts_df = race_counts_df.replace('black', 1)\n",
    "race_counts_df = race_counts_df.replace('asian', 2)\n",
    "race_counts_df = race_counts_df.replace('hispanic', 3)\n",
    "race_counts_df['ethnicity'].unique()\n"
   ]
  },
  {
   "cell_type": "code",
   "execution_count": 15,
   "metadata": {},
   "outputs": [],
   "source": [
    "race_counts_df=race_counts_df.reset_index(drop=True)\n",
    "\n",
    "##race_counts_df.drop(columns=['ethnicity:confidence'])"
   ]
  },
  {
   "cell_type": "markdown",
   "metadata": {},
   "source": [
    "## Undersample"
   ]
  },
  {
   "cell_type": "code",
   "execution_count": 34,
   "metadata": {},
   "outputs": [],
   "source": [
    "X=race_counts_df.drop(columns=['ethnicity'])\n",
    "y=race_counts_df['ethnicity']\n",
    "\n",
    "rus = RandomUnderSampler(random_state=42)\n",
    "X_resampled, y_resampled = rus.fit_resample(X, y)"
   ]
  },
  {
   "cell_type": "markdown",
   "metadata": {},
   "source": [
    "## Split into test and train"
   ]
  },
  {
   "cell_type": "code",
   "execution_count": 35,
   "metadata": {},
   "outputs": [],
   "source": [
    "X_train_race, X_test_race, y_train_race, y_test_race = train_test_split(X_resampled, y_resampled, test_size=0.2, random_state=42)"
   ]
  },
  {
   "cell_type": "code",
   "execution_count": 36,
   "metadata": {},
   "outputs": [
    {
     "name": "stdout",
     "output_type": "stream",
     "text": [
      "Whites: 262\n",
      "Blacks: 254\n",
      "Asians: 271\n",
      "Hispanics: 262\n",
      "Other: 0\n",
      "Whites: 66\n",
      "Blacks: 74\n",
      "Asians: 57\n",
      "Hispanics: 66\n",
      "Other: 0\n"
     ]
    }
   ],
   "source": [
    "countRaces(y_train_race,attribute=False)\n",
    "countRaces(y_test_race,attribute=False)"
   ]
  },
  {
   "cell_type": "markdown",
   "metadata": {},
   "source": [
    "## Prior Baseline"
   ]
  },
  {
   "cell_type": "code",
   "execution_count": 37,
   "metadata": {},
   "outputs": [
    {
     "name": "stdout",
     "output_type": "stream",
     "text": [
      "Log loss with 'Prior' dummy classifier on train set: 1.386\n",
      "Log loss with 'Prior' dummy classifier on test set: 1.389\n",
      "\n",
      "Accuracy score with 'Prior' dummy classifier on train set: 0.258\n",
      "Accuracy score with 'Prior' dummy classifier on test set: 0.217\n",
      "\n"
     ]
    },
    {
     "data": {
      "image/png": "[encoded data removed]",
      "text/plain": [
       "<Figure size 432x288 with 2 Axes>"
      ]
     },
     "metadata": {
      "needs_background": "light"
     },
     "output_type": "display_data"
    }
   ],
   "source": [
    "# Prior\n",
    "dummy_prior = DummyClassifier(strategy='prior').fit(X_train_race, y_train_race)\n",
    "\n",
    "# Train Data\n",
    "pred_prob_train_prior = dummy_prior.predict_proba(X_train_race)\n",
    "logloss_train_prior = log_loss(y_train_race, pred_prob_train_prior)\n",
    "predict_train_prior  = dummy_prior.predict(X_train_race)\n",
    "accuracy_train_prior = accuracy_score(y_train_race, predict_train_prior)\n",
    "\n",
    "# Validate Data\n",
    "pred_prob_val_prior = dummy_prior.predict_proba(X_test_race)\n",
    "logloss_val_prior = log_loss(y_test_race, pred_prob_val_prior)\n",
    "predict_val_prior  = dummy_prior.predict(X_test_race)\n",
    "accuracy_val_prior = accuracy_score(y_test_race, predict_val_prior)\n",
    "\n",
    "# Report\n",
    "print('Log loss with \\'Prior\\' dummy classifier on train set: {:.3f}'.format(logloss_train_prior))\n",
    "print('Log loss with \\'Prior\\' dummy classifier on test set: {:.3f}\\n'.format(logloss_val_prior))\n",
    "print('Accuracy score with \\'Prior\\' dummy classifier on train set: {:.3f}'.format(accuracy_train_prior))\n",
    "print('Accuracy score with \\'Prior\\' dummy classifier on test set: {:.3f}\\n'.format(accuracy_val_prior))\n",
    "\n",
    "# Confusion matrix\n",
    "cm = confusion_matrix(y_test_race,predict_val_prior)\n",
    "\n",
    "# Normalise Confusion Matrix\n",
    "cm_norm = cm/cm.sum(axis=1)[:, np.newaxis]\n",
    "\n",
    "plt.figure()\n",
    "plot_confusion_matrix(cm_norm,classes=['White','Black','Asian','Hispanic'],title=\"Confusion Matrix (Test Set)\")"
   ]
  },
  {
   "cell_type": "markdown",
   "metadata": {},
   "source": [
    "## Naive Bayes Classification "
   ]
  },
  {
   "cell_type": "code",
   "execution_count": 38,
   "metadata": {},
   "outputs": [
    {
     "name": "stdout",
     "output_type": "stream",
     "text": [
      "Log loss with Naive Bayes Classification on train set: 5.151\n",
      "Log loss with Naive Bayes Classification on test set: 19.549\n",
      "\n",
      "Accuracy score with Naive Bayes Classification on train set: 0.850\n",
      "Accuracy score with Naive Bayes Classification on test set: 0.426\n",
      "\n"
     ]
    },
    {
     "data": {
      "image/png": "[encoded data removed]",
      "text/plain": [
       "<Figure size 432x288 with 2 Axes>"
      ]
     },
     "metadata": {
      "needs_background": "light"
     },
     "output_type": "display_data"
    }
   ],
   "source": [
    "gnb = GaussianNB().fit(X_train_race, y_train_race)\n",
    "\n",
    "# Train Data\n",
    "pred_prob_gnb = gnb.predict_proba(X_train_race)\n",
    "logloss_train_gnb = log_loss(y_train_race, pred_prob_gnb)\n",
    "predict_train_gnb  = gnb.predict(X_train_race)\n",
    "accuracy_train_gnb = accuracy_score(y_train_race, predict_train_gnb)\n",
    "\n",
    "# Validate Data\n",
    "pred_prob_val_gnb = gnb.predict_proba(X_test_race)\n",
    "logloss_val_gnb = log_loss(y_test_race, pred_prob_val_gnb)\n",
    "predict_val_gnb  = gnb.predict(X_test_race)\n",
    "accuracy_val_gnb = accuracy_score(y_test_race, predict_val_gnb)\n",
    "\n",
    "# Report\n",
    "print('Log loss with Naive Bayes Classification on train set: {:.3f}'.format(logloss_train_gnb))\n",
    "print('Log loss with Naive Bayes Classification on test set: {:.3f}\\n'.format(logloss_val_gnb))\n",
    "print('Accuracy score with Naive Bayes Classification on train set: {:.3f}'.format(accuracy_train_gnb))\n",
    "print('Accuracy score with Naive Bayes Classification on test set: {:.3f}\\n'.format(accuracy_val_gnb))\n",
    "\n",
    "# Confusion matrix\n",
    "cm = confusion_matrix(y_test_race,predict_val_gnb)\n",
    "\n",
    "# Normalise Confusion Matrix\n",
    "cm_norm = cm/cm.sum(axis=1)[:, np.newaxis]\n",
    "\n",
    "plt.figure()\n",
    "plot_confusion_matrix(cm_norm,classes=['White','Black','Asian','Hispanic'],title=\"Confusion Matrix (Test Set)\")"
   ]
  },
  {
   "cell_type": "markdown",
   "metadata": {},
   "source": [
    "## K Nearest Neighbour"
   ]
  },
  {
   "cell_type": "code",
   "execution_count": 39,
   "metadata": {},
   "outputs": [
    {
     "name": "stdout",
     "output_type": "stream",
     "text": [
      "Cross Validation Mean accuracy score with KNN (Training, 5-fold split) using 2 neighbors: 0.41751\n",
      "Cross Validation Mean accuracy score with KNN (Training, 5-fold split) using 10 neighbors: 0.47470\n",
      "Cross Validation Mean accuracy score with KNN (Training, 5-fold split) using 20 neighbors: 0.46329\n",
      "Cross Validation Mean accuracy score with KNN (Training, 5-fold split) using 40 neighbors: 0.45661\n",
      "Cross Validation Mean accuracy score with KNN (Training, 5-fold split) using 50 neighbors: 0.46993\n",
      "Cross Validation Mean accuracy score with KNN (Training, 5-fold split) using 60 neighbors: 0.45468\n",
      "Cross Validation Mean accuracy score with KNN (Training, 5-fold split) using 80 neighbors: 0.46039\n",
      "Cross Validation Mean accuracy score with KNN (Training, 5-fold split) using 100 neighbors: 0.44705\n",
      "Cross Validation Mean accuracy score with KNN (Training, 5-fold split) using 120 neighbors: 0.44228\n",
      "Cross Validation Mean accuracy score with KNN (Training, 5-fold split) using 140 neighbors: 0.43181\n",
      "Cross Validation Mean accuracy score with KNN (Training, 5-fold split) using 160 neighbors: 0.42610\n",
      "Cross Validation Mean accuracy score with KNN (Training, 5-fold split) using 180 neighbors: 0.41752\n",
      "\n",
      "Best result with 10 neighbors \n",
      "\n"
     ]
    }
   ],
   "source": [
    "# Use Cross-Validation on the Training set(5-fold split)\n",
    "k_fold_5 = KFold(n_splits=5, shuffle=True, random_state=0)\n",
    "\n",
    "# Creating of K for KNN\n",
    "k_list = list(range(1,200))\n",
    "\n",
    "# Subsetting 2,10,50 and just multiples of 100\n",
    "neighbors = filter(lambda x:( x % 20 == 0)|(x ==2)|(x==10)|(x==50), k_list)\n",
    "\n",
    "# Empty lists that will hold accuracy scores for each neighbour \n",
    "accuracy_list_knn = []\n",
    "\n",
    "# Print cros val log loss for each neighbor \n",
    "for k in neighbors:\n",
    "    knn = KNeighborsClassifier(n_neighbors=k)\n",
    "    accuracy = cross_val_score(knn, X_train_race, y_train_race, cv=k_fold_5, scoring='accuracy', n_jobs=-1)\n",
    "    accuracy_list_knn.append([k,accuracy.mean()])\n",
    "    print(\"Cross Validation Mean accuracy score with KNN (Training, 5-fold split) using {} neighbors: {:.5f}\".format(k,accuracy.mean()))\n",
    "    \n",
    "# Best k result\n",
    "best_k = accuracy_list_knn[np.argmax(accuracy_list_knn,axis=0)[1]][0]\n",
    "print(\"\\nBest result with {} neighbors \\n\".format(best_k))"
   ]
  },
  {
   "cell_type": "code",
   "execution_count": 40,
   "metadata": {},
   "outputs": [
    {
     "name": "stdout",
     "output_type": "stream",
     "text": [
      "Log loss with K Nearest Neighbour (K=10) on train set: 0.978\n",
      "Log loss with K Nearest Neighbour (K=10) on test set: 2.790\n",
      "\n",
      "Accuracy score with K Nearest Neighbour (K=10) on train set: 0.564\n",
      "Accuracy score with K Nearest Neighbour (K=10) on test set: 0.449\n",
      "\n"
     ]
    },
    {
     "data": {
      "image/png": "[encoded data removed]",
      "text/plain": [
       "<Figure size 432x288 with 2 Axes>"
      ]
     },
     "metadata": {
      "needs_background": "light"
     },
     "output_type": "display_data"
    }
   ],
   "source": [
    "knn_opt_k = KNeighborsClassifier(n_neighbors=int(best_k)).fit(X_train_race, y_train_race)\n",
    "\n",
    "# Train Data\n",
    "pred_prob_knn = knn_opt_k.predict_proba(X_train_race)\n",
    "logloss_train_knn = log_loss(y_train_race, pred_prob_knn)\n",
    "predict_train_knn  = knn_opt_k.predict(X_train_race)\n",
    "accuracy_train_knn = accuracy_score(y_train_race, predict_train_knn)\n",
    "\n",
    "# Validate Data\n",
    "pred_prob_val_knn = knn_opt_k.predict_proba(X_test_race)\n",
    "logloss_val_knn = log_loss(y_test_race, pred_prob_val_knn)\n",
    "predict_val_knn  = knn_opt_k.predict(X_test_race)\n",
    "accuracy_val_knn = accuracy_score(y_test_race, predict_val_knn)\n",
    "\n",
    "# Report\n",
    "print('Log loss with K Nearest Neighbour (K={}) on train set: {:.3f}'.format(best_k,logloss_train_knn))\n",
    "print('Log loss with K Nearest Neighbour (K={}) on test set: {:.3f}\\n'.format(best_k,logloss_val_knn))\n",
    "print('Accuracy score with K Nearest Neighbour (K={}) on train set: {:.3f}'.format(best_k,accuracy_train_knn))\n",
    "print('Accuracy score with K Nearest Neighbour (K={}) on test set: {:.3f}\\n'.format(best_k,accuracy_val_knn))\n",
    "\n",
    "# Confusion matrix\n",
    "cm = confusion_matrix(y_test_race,predict_val_knn)\n",
    "\n",
    "# Normalise Confusion Matrix\n",
    "cm_norm = cm/cm.sum(axis=1)[:, np.newaxis]\n",
    "\n",
    "plt.figure()\n",
    "plot_confusion_matrix(cm_norm,classes=['White','Black','Asian','Hispanic'],title=\"Confusion Matrix (Test Set)\")"
   ]
  },
  {
   "cell_type": "markdown",
   "metadata": {},
   "source": [
    "## Random Forest"
   ]
  },
  {
   "cell_type": "code",
   "execution_count": 41,
   "metadata": {},
   "outputs": [
    {
     "name": "stdout",
     "output_type": "stream",
     "text": [
      "Cross Validation Mean accuracy score with RF (Training, 5-fold split) using 2 depth: 0.48616\n",
      "Cross Validation Mean accuracy score with RF (Training, 5-fold split) using 3 depth: 0.51000\n",
      "Cross Validation Mean accuracy score with RF (Training, 5-fold split) using 5 depth: 0.54049\n",
      "Cross Validation Mean accuracy score with RF (Training, 5-fold split) using 8 depth: 0.56433\n",
      "Cross Validation Mean accuracy score with RF (Training, 5-fold split) using 13 depth: 0.58717\n",
      "Cross Validation Mean accuracy score with RF (Training, 5-fold split) using 21 depth: 0.58242\n",
      "Cross Validation Mean accuracy score with RF (Training, 5-fold split) using 34 depth: 0.57764\n",
      "Cross Validation Mean accuracy score with RF (Training, 5-fold split) using 55 depth: 0.56621\n",
      "Cross Validation Mean accuracy score with RF (Training, 5-fold split) using 89 depth: 0.56240\n",
      "Cross Validation Mean accuracy score with RF (Training, 5-fold split) using 144 depth: 0.56718\n",
      "Cross Validation Mean accuracy score with RF (Training, 5-fold split) using 233 depth: 0.56718\n"
     ]
    }
   ],
   "source": [
    "max_depths_list = [2,3,5,8,13,21,34,55,89,144,233]\n",
    "\n",
    "# Empty lists that will hold accuracy for each depth \n",
    "accuracy_list_rf = []\n",
    "\n",
    "# Print cros val log loss for each depth \n",
    "for d in max_depths_list:\n",
    "    rf = RandomForestClassifier(n_estimators=500, criterion='entropy',random_state = 42,max_depth=d)\n",
    "    accuracy = cross_val_score(rf, X_train_race, y_train_race, cv=k_fold_5, scoring='accuracy', n_jobs=-1)\n",
    "    accuracy_list_rf.append([d,accuracy.mean()])\n",
    "    print(\"Cross Validation Mean accuracy score with RF (Training, 5-fold split) using {} depth: {:.5f}\".format(d,accuracy.mean()))"
   ]
  },
  {
   "cell_type": "code",
   "execution_count": 42,
   "metadata": {},
   "outputs": [
    {
     "name": "stdout",
     "output_type": "stream",
     "text": [
      "\n",
      "Best result with 13 depth \n",
      "\n",
      "Log loss with Random Forest (Depth=13) on train set: 0.882\n",
      "Log loss with Random Forest (Depth=13) on test set: 1.183\n",
      "\n",
      "Accuracy score with Random Forest (Depth=13) on train set: 0.877\n",
      "Accuracy score with Random Forest (Depth=13) on test set: 0.563\n",
      "\n"
     ]
    },
    {
     "data": {
      "image/png": "[encoded data removed]",
      "text/plain": [
       "<Figure size 432x288 with 2 Axes>"
      ]
     },
     "metadata": {
      "needs_background": "light"
     },
     "output_type": "display_data"
    }
   ],
   "source": [
    "# Best depth result\n",
    "best_d = accuracy_list_rf[np.argmax(accuracy_list_rf,axis=0)[1]][0]\n",
    "print(\"\\nBest result with {} depth \\n\".format(best_d))\n",
    "\n",
    "rf_opt_d = RandomForestClassifier(n_estimators=500, criterion='entropy',random_state = 42,max_depth=best_d).fit(X_train_race, y_train_race)\n",
    "\n",
    "# Train Data\n",
    "pred_prob_rf = rf_opt_d.predict_proba(X_train_race)\n",
    "logloss_train_rf = log_loss(y_train_race, pred_prob_rf)\n",
    "predict_train_rf  = rf_opt_d.predict(X_train_race)\n",
    "accuracy_train_rf = accuracy_score(y_train_race, predict_train_rf)\n",
    "\n",
    "# Validate Data\n",
    "pred_prob_val_rf = rf_opt_d.predict_proba(X_test_race)\n",
    "logloss_val_rf = log_loss(y_test_race, pred_prob_val_rf)\n",
    "predict_val_rf  = rf_opt_d.predict(X_test_race)\n",
    "accuracy_val_rf = accuracy_score(y_test_race, predict_val_rf)\n",
    "\n",
    "# Report\n",
    "print('Log loss with Random Forest (Depth={}) on train set: {:.3f}'.format(best_d,logloss_train_rf))\n",
    "print('Log loss with Random Forest (Depth={}) on test set: {:.3f}\\n'.format(best_d,logloss_val_rf))\n",
    "print('Accuracy score with Random Forest (Depth={}) on train set: {:.3f}'.format(best_d,accuracy_train_rf))\n",
    "print('Accuracy score with Random Forest (Depth={}) on test set: {:.3f}\\n'.format(best_d,accuracy_val_rf))\n",
    "\n",
    "# Confusion matrix\n",
    "cm = confusion_matrix(y_test_race,predict_val_rf)\n",
    "\n",
    "# Normalise Confusion Matrix\n",
    "cm_norm = cm/cm.sum(axis=1)[:, np.newaxis]\n",
    "\n",
    "plt.figure()\n",
    "plot_confusion_matrix(cm_norm,classes=['White','Black','Asian','Hispanic'],title=\"Confusion Matrix (Test Set)\")"
   ]
  },
  {
   "cell_type": "markdown",
   "metadata": {},
   "source": [
    "## Linear SVM Classification"
   ]
  },
  {
   "cell_type": "code",
   "execution_count": 43,
   "metadata": {},
   "outputs": [
    {
     "name": "stdout",
     "output_type": "stream",
     "text": [
      "Accuracy score with Linear SVM on train set: 0.680\n",
      "Accuracy score with Linear SVM on test set: 0.502\n",
      "\n"
     ]
    },
    {
     "data": {
      "image/png": "[encoded data removed]",
      "text/plain": [
       "<Figure size 432x288 with 2 Axes>"
      ]
     },
     "metadata": {
      "needs_background": "light"
     },
     "output_type": "display_data"
    }
   ],
   "source": [
    "clf = LinearSVC(random_state=0, tol=1e-5).fit(X_train_race, y_train_race)\n",
    "\n",
    "# Train Data\n",
    "predict_train_clf  = clf.predict(X_train_race)\n",
    "accuracy_train_clf = accuracy_score(y_train_race, predict_train_clf)\n",
    "\n",
    "# Test Data\n",
    "predict_val_clf  = clf.predict(X_test_race)\n",
    "accuracy_val_clf = accuracy_score(y_test_race, predict_val_clf)\n",
    "\n",
    "# Report\n",
    "print('Accuracy score with Linear SVM on train set: {:.3f}'.format(accuracy_train_clf))\n",
    "print('Accuracy score with Linear SVM on test set: {:.3f}\\n'.format(accuracy_val_clf))\n",
    "\n",
    "# Confusion matrix\n",
    "cm = confusion_matrix(y_test_race,predict_val_clf)\n",
    "\n",
    "# Normalise Confusion Matrix\n",
    "cm_norm = cm/cm.sum(axis=1)[:, np.newaxis]\n",
    "\n",
    "plt.figure()\n",
    "plot_confusion_matrix(cm_norm,classes=['White','Black','Asian','Hispanic'],title=\"Confusion Matrix (Test Set)\")"
   ]
  },
  {
   "cell_type": "markdown",
   "metadata": {},
   "source": [
    "## SVM with Chi-squared kernel Classification"
   ]
  },
  {
   "cell_type": "code",
   "execution_count": 44,
   "metadata": {},
   "outputs": [
    {
     "name": "stdout",
     "output_type": "stream",
     "text": [
      "Log loss with SVM (Chi-squared kernel) on train set: 0.535\n",
      "Log loss with SVM (Chi-squared kernel) on test set: 1.084\n",
      "\n",
      "Accuracy score with SVM (Chi-squared kernel) on train set: 0.883\n",
      "Accuracy score with SVM (Chi-squared kernel) on test set: 0.517\n",
      "\n"
     ]
    },
    {
     "data": {
      "image/png": "[encoded data removed]",
      "text/plain": [
       "<Figure size 432x288 with 2 Axes>"
      ]
     },
     "metadata": {
      "needs_background": "light"
     },
     "output_type": "display_data"
    }
   ],
   "source": [
    "svm_chi = SVC(kernel=chi2_kernel, probability=True).fit(X_train_race, y_train_race)\n",
    "\n",
    "# Train Data\n",
    "pred_prob_chi = svm_chi.predict_proba(X_train_race)\n",
    "logloss_train_chi = log_loss(y_train_race, pred_prob_chi)\n",
    "predict_train_chi  = svm_chi.predict(X_train_race)\n",
    "accuracy_train_chi = accuracy_score(y_train_race, predict_train_chi)\n",
    "\n",
    "# Test Data\n",
    "pred_prob_val_chi = svm_chi.predict_proba(X_test_race)\n",
    "logloss_val_chi = log_loss(y_test_race, pred_prob_val_chi)\n",
    "predict_val_chi  = svm_chi.predict(X_test_race)\n",
    "accuracy_val_chi = accuracy_score(y_test_race, predict_val_chi)\n",
    "\n",
    "# Report\n",
    "print('Log loss with SVM (Chi-squared kernel) on train set: {:.3f}'.format(logloss_train_chi))\n",
    "print('Log loss with SVM (Chi-squared kernel) on test set: {:.3f}\\n'.format(logloss_val_chi))\n",
    "print('Accuracy score with SVM (Chi-squared kernel) on train set: {:.3f}'.format(accuracy_train_chi))\n",
    "print('Accuracy score with SVM (Chi-squared kernel) on test set: {:.3f}\\n'.format(accuracy_val_chi))\n",
    "\n",
    "# Confusion matrix\n",
    "cm = confusion_matrix(y_test_race,predict_val_chi)\n",
    "\n",
    "# Normalise Confusion Matrix\n",
    "cm_norm = cm/cm.sum(axis=1)[:, np.newaxis]\n",
    "\n",
    "plt.figure()\n",
    "plot_confusion_matrix(cm_norm,classes=['White','Black','Asian','Hispanic'],title=\"Confusion Matrix (Test Set)\")"
   ]
  },
  {
   "cell_type": "markdown",
   "metadata": {},
   "source": [
    "## Results Accuracy"
   ]
  },
  {
   "cell_type": "code",
   "execution_count": 45,
   "metadata": {},
   "outputs": [
    {
     "data": {
      "image/png": "[encoded data removed]",
      "text/plain": [
       "<Figure size 1008x648 with 1 Axes>"
      ]
     },
     "metadata": {
      "needs_background": "light"
     },
     "output_type": "display_data"
    }
   ],
   "source": [
    "methods = ['Prior','Naive Bayes','K-Nearest Neighbour','Linear SVM','Random Forest','Chi^2 Kernel SVM']\n",
    "accuracy_values = [accuracy_val_prior,accuracy_val_gnb,\n",
    "                  accuracy_val_knn,accuracy_val_clf,accuracy_val_rf,\n",
    "                  accuracy_val_chi]\n",
    "\n",
    "plt.figure(figsize=(14,9))\n",
    "ax = plt.gca()\n",
    "ax.scatter(x = methods , y = accuracy_values)\n",
    "ax.plot(methods,accuracy_values)\n",
    "ax.set_xlabel('Method',fontsize =20,color='blue')\n",
    "ax.set_ylabel('Accuracy',fontsize =20,color='blue')\n",
    "plt.yticks(fontsize =15)\n",
    "plt.xticks(fontsize =15)\n",
    "ax.set_facecolor('#ffd27f')\n",
    "plt.grid(linestyle='-', linewidth=1,axis='y')\n",
    "#plt.yticks(np.arange(0.5, 0.8, 0.025))\n",
    "ax.set_title('Race Classification Accuracy on Test Set per Method',fontsize =25,color='blue')\n",
    "plt.show()"
   ]
  },
  {
   "cell_type": "code",
   "execution_count": null,
   "metadata": {},
   "outputs": [],
   "source": []
  }
 ],
 "metadata": {
  "kernelspec": {
   "display_name": "Python 3",
   "language": "python",
   "name": "python3"
  },
  "language_info": {
   "codemirror_mode": {
    "name": "ipython",
    "version": 3
   },
   "file_extension": ".py",
   "mimetype": "text/x-python",
   "name": "python",
   "nbconvert_exporter": "python",
   "pygments_lexer": "ipython3",
   "version": "3.7.1"
  }
 },
 "nbformat": 4,
 "nbformat_minor": 2
}
