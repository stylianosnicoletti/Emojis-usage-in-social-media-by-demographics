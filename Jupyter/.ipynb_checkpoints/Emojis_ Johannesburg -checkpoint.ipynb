{
 "cells": [
  {
   "cell_type": "markdown",
   "metadata": {},
   "source": [
    "## Imports\n",
    "Execute the cell below to import all packages needed."
   ]
  },
  {
   "cell_type": "code",
   "execution_count": 1,
   "metadata": {},
   "outputs": [],
   "source": [
    "# System functionality\n",
    "import sys\n",
    "sys.path.append('..')\n",
    "\n",
    "import glob\n",
    "import os\n",
    "import numpy as np \n",
    "import pandas as pd\n",
    "import matplotlib as mpl\n",
    "import matplotlib.pyplot as plt\n",
    "import matplotlib.font_manager as font_manager\n",
    "import seaborn as sns\n",
    "import graphviz\n",
    "import math as math\n",
    "import json\n",
    "import cv2\n",
    "from matplotlib.ticker import FuncFormatter\n",
    "from matplotlib.font_manager import FontProperties\n",
    "from emoji_extractor.extract import Extractor\n",
    "from skimage import io"
   ]
  },
  {
   "cell_type": "markdown",
   "metadata": {},
   "source": [
    "## Load csv into pandas dataframe"
   ]
  },
  {
   "cell_type": "code",
   "execution_count": null,
   "metadata": {},
   "outputs": [],
   "source": [
    "path__tweets_csv = '/home/stelios/Desktop/Honours Project/Samples/tweet_data/tweets_joh_all.csv'\n",
    "path_users_csv = '/home/stelios/Desktop/Honours Project/Samples/user_data/joh.csv'\n",
    "\n",
    "joh_tweets_df = pd.read_csv(path__tweets_csv,index_col=None, header=0, low_memory = False).applymap(str)\n",
    "joh_users_df = pd.read_csv(path_users_csv,index_col=None, header=0, low_memory = False).applymap(str)\n",
    "\n",
    "joh_join_df = joh_tweets_df.join(joh_users_df.set_index('user_id'), on='user_id')"
   ]
  },
  {
   "cell_type": "markdown",
   "metadata": {},
   "source": [
    "## Extract & Count Emojis for all"
   ]
  },
  {
   "cell_type": "code",
   "execution_count": null,
   "metadata": {
    "scrolled": true
   },
   "outputs": [],
   "source": [
    "extract = Extractor()\n",
    "\n",
    "count = extract.count_all_emoji(joh_join_df['text'])\n",
    "\n",
    "# Display most common\n",
    "count.most_common()"
   ]
  },
  {
   "cell_type": "markdown",
   "metadata": {},
   "source": [
    "## Create a Sorted Pandas DataFrame with Emoji Counts "
   ]
  },
  {
   "cell_type": "code",
   "execution_count": null,
   "metadata": {},
   "outputs": [],
   "source": [
    "# Create panda dataframe to store emojis with counts\n",
    "emojis_count_df = pd.DataFrame(columns = ['Emoji','Count'])\n",
    "for emoji in count:\n",
    "    emojis_count_df = emojis_count_df.append({'Emoji' : emoji , 'Count' : count[emoji]} , ignore_index=True)\n",
    "\n",
    "# Sort dataframe by count\n",
    "emojis_count_df = emojis_count_df.sort_values(by=['Count'])\n",
    "emojis_count_df"
   ]
  },
  {
   "cell_type": "markdown",
   "metadata": {},
   "source": [
    "## Top 15 Emojis Graph"
   ]
  },
  {
   "cell_type": "code",
   "execution_count": null,
   "metadata": {},
   "outputs": [],
   "source": [
    "# Top 15 Values\n",
    "x = emojis_count_df['Emoji'].tail(15).values\n",
    "y = emojis_count_df['Count'].tail(15).values\n",
    "\n",
    "# Millions Formatter Function\n",
    "def millions(x, pos):\n",
    "    'The two args are the value and tick position'\n",
    "    return '%1.1fM' % (x*1e-6)\n",
    "\n",
    "# Create a formatter\n",
    "formatter_millions = FuncFormatter(millions)\n",
    "\n",
    "# Use TwitterColorEmoji Font (only one supporting emojis) \n",
    "emojis_font = FontProperties(fname='./Fonts/TwitterColorEmoji-SVGinOT.ttf',size=55)\n",
    "\n",
    "# Plot Bar Chart\n",
    "fig, ax = plt.subplots(figsize=(20,12))\n",
    "ax.yaxis.set_major_formatter(formatter_millions)\n",
    "ax.tick_params(axis='both', which='major', pad=10)\n",
    "plt.grid( linestyle='-', linewidth=2,axis='y')\n",
    "plt.bar(x, y, width=0.7, bottom=None, align='center', data=emojis_count_df.tail(5))\n",
    "plt.xticks(x, fontproperties=emojis_font)\n",
    "plt.yticks(fontsize =20)\n",
    "plt.ylabel('Frequency', fontsize =30)\n",
    "plt.title('Top 15 Emojis in Johannesburg', fontsize =40)\n",
    "plt.tight_layout()\n",
    "plt.show()\n"
   ]
  },
  {
   "cell_type": "code",
   "execution_count": null,
   "metadata": {},
   "outputs": [],
   "source": [
    "extract = Extractor()\n",
    "females = joh_join_df.loc[(joh_join_df['gender'] == 'female')& (joh_join_df['gender:confidence'].astype(float)==1)]\n",
    "count_females = extract.count_all_emoji(joh_join_df['text'])\n",
    "\n"
   ]
  },
  {
   "cell_type": "code",
   "execution_count": null,
   "metadata": {},
   "outputs": [],
   "source": []
  }
 ],
 "metadata": {
  "kernelspec": {
   "display_name": "Python 3",
   "language": "python",
   "name": "python3"
  },
  "language_info": {
   "codemirror_mode": {
    "name": "ipython",
    "version": 3
   },
   "file_extension": ".py",
   "mimetype": "text/x-python",
   "name": "python",
   "nbconvert_exporter": "python",
   "pygments_lexer": "ipython3",
   "version": "3.7.1"
  }
 },
 "nbformat": 4,
 "nbformat_minor": 2
}
