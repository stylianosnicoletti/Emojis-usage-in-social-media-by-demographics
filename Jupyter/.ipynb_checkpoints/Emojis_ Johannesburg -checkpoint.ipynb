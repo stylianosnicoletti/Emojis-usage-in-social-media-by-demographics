{
 "cells": [
  {
   "cell_type": "markdown",
   "metadata": {},
   "source": [
    "## Imports\n",
    "Execute the cell below to import all packages needed."
   ]
  },
  {
   "cell_type": "code",
   "execution_count": 1,
   "metadata": {},
   "outputs": [],
   "source": [
    "# System functionality\n",
    "import sys\n",
    "sys.path.append('..')\n",
    "\n",
    "import glob\n",
    "import os\n",
    "import numpy as np \n",
    "import pandas as pd\n",
    "import matplotlib as mpl\n",
    "import matplotlib.pyplot as plt\n",
    "import matplotlib.font_manager as font_manager\n",
    "import seaborn as sns\n",
    "import graphviz\n",
    "import math as math\n",
    "import json\n",
    "import cv2\n",
    "import matplotlib.image as mpimg\n",
    "from skimage import data, io, filters\n",
    "from numpy import linspace\n",
    "from numpy.core.umath import pi\n",
    "from matplotlib.ticker import FuncFormatter\n",
    "from matplotlib.font_manager import FontProperties\n",
    "from emoji_extractor.extract import Extractor\n",
    "from emojipedia import Emojipedia\n",
    "from skimage import io"
   ]
  },
  {
   "cell_type": "markdown",
   "metadata": {},
   "source": [
    "## Load csv into pandas dataframe"
   ]
  },
  {
   "cell_type": "code",
   "execution_count": null,
   "metadata": {},
   "outputs": [],
   "source": [
    "path__tweets_csv = '/home/stelios/Desktop/Honours Project/Samples/tweet_data/tweets_joh_all.csv'\n",
    "path_users_csv = '/home/stelios/Desktop/Honours Project/Samples/user_data/joh.csv'\n",
    "\n",
    "joh_tweets_df = pd.read_csv(path__tweets_csv,index_col=None, header=0, low_memory = False).applymap(str)\n",
    "joh_users_df = pd.read_csv(path_users_csv,index_col=None, header=0, low_memory = False).applymap(str)\n",
    "\n",
    "joh_join_df = joh_tweets_df.join(joh_users_df.set_index('user_id'), on='user_id')"
   ]
  },
  {
   "cell_type": "markdown",
   "metadata": {},
   "source": [
    "## Extract, Count & Sort Emojis for all"
   ]
  },
  {
   "cell_type": "code",
   "execution_count": null,
   "metadata": {
    "scrolled": true
   },
   "outputs": [],
   "source": [
    "extract = Extractor()\n",
    "\n",
    "count = extract.count_all_emoji(joh_join_df['text'])\n",
    "\n",
    "# Display most common\n",
    "#count.most_common()\n",
    "\n",
    "# Create panda dataframe to store emojis with counts\n",
    "emojis_count_df = pd.DataFrame(columns = ['Emoji','Count'])\n",
    "for emoji in count:\n",
    "    emojis_count_df = emojis_count_df.append({'Emoji' : emoji , 'Count' : count[emoji]} , ignore_index=True)\n",
    "\n",
    "# Sort dataframe by count\n",
    "emojis_count_df = emojis_count_df.sort_values(by=['Count'])\n",
    "emojis_count_df.tail(20)"
   ]
  },
  {
   "cell_type": "markdown",
   "metadata": {},
   "source": [
    "## Top 15 Emojis Graph"
   ]
  },
  {
   "cell_type": "code",
   "execution_count": null,
   "metadata": {},
   "outputs": [],
   "source": [
    "# Top 15 Values\n",
    "x = emojis_count_df['Emoji'].tail(15).values\n",
    "y = emojis_count_df['Count'].tail(15).values\n",
    "\n",
    "# Millions Formatter Function\n",
    "def millions(x, pos):\n",
    "    'The two args are the value and tick position'\n",
    "    return '%1.1fK' % (x*1e-3)\n",
    "\n",
    "# Create a formatter\n",
    "formatter_millions = FuncFormatter(millions)\n",
    "\n",
    "# Use TwitterColorEmoji Font (only one supporting emojis) \n",
    "emojis_font = FontProperties(fname='./Fonts/TwitterColorEmoji-SVGinOT.ttf',size=55)\n",
    "\n",
    "# Set linespacing\n",
    "x_linespace = linspace(0, 4*pi, num=15)\n",
    "\n",
    "# Plot Bar Chart\n",
    "sns.set(color_codes=True) # Seaborn \n",
    "fig, ax = plt.subplots(figsize=(20,12))\n",
    "ax.yaxis.set_major_formatter(formatter_millions)\n",
    "ax.tick_params(axis='both', which='major', pad=10)\n",
    "ax.set_facecolor('#0F0F0F0F')\n",
    "plt.grid(linestyle='-', linewidth=1,axis='y')\n",
    "plt.bar(x_linespace, y, width=0.7, bottom=None, align='center')\n",
    "ax.get_xaxis().set_visible(False)\n",
    "#plt.xticks(x, fontproperties=emojis_font)  Old method\n",
    "plt.yticks(fontsize =20)\n",
    "plt.ylabel('Frequency', fontsize =30)\n",
    "plt.title('Top 15 Emojis in Johannesburg', fontsize =40)\n",
    "plt.tight_layout()\n",
    "\n",
    "# Set sizes of figure and images\n",
    "ax_width = ax.get_window_extent().width\n",
    "fig_width = fig.get_window_extent().width\n",
    "fig_height = fig.get_window_extent().height\n",
    "img_size = ax_width/(fig_width*len(x_linespace))\n",
    "img_axs = [None for i in range(len(x_linespace))]\n",
    "\n",
    "\n",
    "# Display emojis pngs on x-axis\n",
    "for i in range(len(x)):\n",
    "    loc = ax.transData.transform((x_linespace[i], 0))      # Optimize y manually \n",
    "    img_axs[i] = fig.add_axes([loc[0]/fig_width-img_size/2, loc[1]/fig_height-img_size/2,\n",
    "                               img_size, img_size], anchor='C')\n",
    "    \n",
    "    # Platform 5 = Twitter\n",
    "    img_axs[i].imshow(io.imread(Emojipedia.search(x[i]).platforms[5].image_url))\n",
    "    img_axs[i].axis(\"off\")\n",
    "\n",
    "plt.show()"
   ]
  },
  {
   "cell_type": "markdown",
   "metadata": {},
   "source": [
    "## Extract, Count & Sort Emojis for females"
   ]
  },
  {
   "cell_type": "code",
   "execution_count": null,
   "metadata": {
    "scrolled": true
   },
   "outputs": [],
   "source": [
    "# Count emojis (Gender Confidence =1)\n",
    "count_females = extract.count_all_emoji(joh_join_df.loc[(joh_join_df['gender'] == 'female')& (joh_join_df['gender:confidence'].astype(float)==1)]['text'])\n",
    "\n",
    "# Create panda dataframe to store emojis with counts\n",
    "emojis_count_females_df = pd.DataFrame(columns = ['Emoji','Count'])\n",
    "for emoji in count_females:\n",
    "    emojis_count_females_df = emojis_count_females_df.append({'Emoji' : emoji , 'Count' : count_females[emoji]} , ignore_index=True)\n",
    "\n",
    "# Sort dataframe by count\n",
    "emojis_count_females_df = emojis_count_females_df.sort_values(by=['Count'])\n",
    "emojis_count_females_df.tail(20)"
   ]
  },
  {
   "cell_type": "markdown",
   "metadata": {},
   "source": [
    "## Extract, Count & Sort Emojis for males"
   ]
  },
  {
   "cell_type": "code",
   "execution_count": null,
   "metadata": {
    "scrolled": true
   },
   "outputs": [],
   "source": [
    "# Count emojis (Gender Confidence =1)\n",
    "count_males = extract.count_all_emoji(joh_join_df.loc[(joh_join_df['gender'] == 'male')& (joh_join_df['gender:confidence'].astype(float)==1)]['text'])\n",
    "\n",
    "# Create panda dataframe to store emojis with counts\n",
    "emojis_count_males_df = pd.DataFrame(columns = ['Emoji','Count'])\n",
    "for emoji in count_males:\n",
    "    emojis_count_males_df = emojis_count_males_df.append({'Emoji' : emoji , 'Count' : count_males[emoji]} , ignore_index=True)\n",
    "\n",
    "# Sort dataframe by count\n",
    "emojis_count_males_df = emojis_count_males_df.sort_values(by=['Count'])\n",
    "emojis_count_males_df.tail(20)"
   ]
  },
  {
   "cell_type": "markdown",
   "metadata": {},
   "source": [
    "## Top 15 Emojis Graph by Gender"
   ]
  },
  {
   "cell_type": "code",
   "execution_count": null,
   "metadata": {},
   "outputs": [],
   "source": [
    "gender_list = ['Females','Males']\n",
    "gender_values =[emojis_count_females_df,emojis_count_males_df]\n",
    "gender_graph_colours=['ffe9ec','0F0F0F0F']\n",
    "\n",
    "for ind,gen in enumerate(gender_list):\n",
    "    \n",
    "    # Top 15 Values\n",
    "    x = gender_values[ind]['Emoji'].tail(15).values\n",
    "    y = gender_values[ind]['Count'].tail(15).values\n",
    "\n",
    "    # Set linespacing\n",
    "    x_linespace = linspace(0, 4*pi, num=15)\n",
    "\n",
    "    # Plot Bar Chart\n",
    "    fig, ax = plt.subplots(figsize=(20,12))\n",
    "    ax.yaxis.set_major_formatter(formatter_millions)\n",
    "    ax.tick_params(axis='both', which='major', pad=10)\n",
    "    ax.set_facecolor('#{}'.format(gender_graph_colours[ind]))\n",
    "    plt.grid(linestyle='-', linewidth=1,axis='y')\n",
    "    plt.bar(x_linespace, y, width=0.7, bottom=None, align='center')\n",
    "    ax.get_xaxis().set_visible(False)\n",
    "    #plt.xticks(x, fontproperties=emojis_font)  Old method\n",
    "    plt.yticks(fontsize =20)\n",
    "    plt.ylabel('Frequency', fontsize =30)\n",
    "    plt.title('Top 15 Emojis in Johannesburg from {}'.format(gender_list[ind]), fontsize =40)\n",
    "    plt.tight_layout()\n",
    "\n",
    "    # Set sizes of figure and images\n",
    "    ax_width = ax.get_window_extent().width\n",
    "    fig_width = fig.get_window_extent().width\n",
    "    fig_height = fig.get_window_extent().height\n",
    "    img_size = ax_width/(fig_width*len(x_linespace))\n",
    "    img_axs = [None for i in range(len(x_linespace))]\n",
    "\n",
    "\n",
    "    # Display emojis pngs on x-axis\n",
    "    for i in range(len(x)):\n",
    "        loc = ax.transData.transform((x_linespace[i], 0)) # Optimize y manually \n",
    "        img_axs[i] = fig.add_axes([loc[0]/fig_width-img_size/2, loc[1]/fig_height-img_size/2,\n",
    "                                   img_size, img_size], anchor='C')\n",
    "\n",
    "        # Platform 5 = Twitter\n",
    "        img_axs[i].imshow(io.imread(Emojipedia.search(x[i]).platforms[5].image_url))\n",
    "        img_axs[i].axis(\"off\")\n",
    "\n",
    "    plt.show()"
   ]
  },
  {
   "cell_type": "markdown",
   "metadata": {},
   "source": [
    "## Extract, Count & Sort Emojis for White Ethnicity"
   ]
  },
  {
   "cell_type": "code",
   "execution_count": null,
   "metadata": {
    "scrolled": true
   },
   "outputs": [],
   "source": [
    "# Count emojis (Ethnicity Confidence: 0.8)\n",
    "count_white = extract.count_all_emoji(joh_join_df.loc[(joh_join_df['ethnicity'] == 'white')& (joh_join_df['ethnicity:confidence'].astype(float)>0.8)]['text'])\n",
    "\n",
    "# Create panda dataframe to store emojis with counts\n",
    "emojis_count_white_df = pd.DataFrame(columns = ['Emoji','Count'])\n",
    "for emoji in count_white:\n",
    "    emojis_count_white_df = emojis_count_white_df.append({'Emoji' : emoji , 'Count' : count_white[emoji]} , ignore_index=True)\n",
    "\n",
    "# Sort dataframe by count\n",
    "emojis_count_white_df = emojis_count_white_df.sort_values(by=['Count'])\n",
    "emojis_count_white_df.tail(20)"
   ]
  },
  {
   "cell_type": "markdown",
   "metadata": {},
   "source": [
    "## Extract, Count & Sort Emojis for Black Ethnicity"
   ]
  },
  {
   "cell_type": "code",
   "execution_count": null,
   "metadata": {
    "scrolled": true
   },
   "outputs": [],
   "source": [
    "# Count emojis (Ethnicity Confidence: 0.8)\n",
    "count_black = extract.count_all_emoji(joh_join_df.loc[(joh_join_df['ethnicity'] == 'black')& (joh_join_df['ethnicity:confidence'].astype(float)>0.8)]['text'])\n",
    "\n",
    "# Create panda dataframe to store emojis with counts\n",
    "emojis_count_black_df = pd.DataFrame(columns = ['Emoji','Count'])\n",
    "for emoji in count_black:\n",
    "    emojis_count_black_df = emojis_count_black_df.append({'Emoji' : emoji , 'Count' : count_black[emoji]} , ignore_index=True)\n",
    "\n",
    "# Sort dataframe by count\n",
    "emojis_count_black_df = emojis_count_black_df.sort_values(by=['Count'])\n",
    "emojis_count_black_df.tail(20)"
   ]
  },
  {
   "cell_type": "markdown",
   "metadata": {},
   "source": [
    "## Extract, Count & Sort Emojis for Hispanic Ethnicity"
   ]
  },
  {
   "cell_type": "code",
   "execution_count": null,
   "metadata": {
    "scrolled": true
   },
   "outputs": [],
   "source": [
    "# Count emojis (Ethnicity Confidence: 0.8)\n",
    "count_hispanic = extract.count_all_emoji(joh_join_df.loc[(joh_join_df['ethnicity'] == 'hispanic')& (joh_join_df['ethnicity:confidence'].astype(float)>0.8)]['text'])\n",
    "\n",
    "# Create panda dataframe to store emojis with counts\n",
    "emojis_count_hispanic_df = pd.DataFrame(columns = ['Emoji','Count'])\n",
    "for emoji in count_hispanic:\n",
    "    emojis_count_hispanic_df = emojis_count_hispanic_df.append({'Emoji' : emoji , 'Count' : count_hispanic[emoji]} , ignore_index=True)\n",
    "\n",
    "# Sort dataframe by count\n",
    "emojis_count_hispanic_df = emojis_count_hispanic_df.sort_values(by=['Count'])\n",
    "emojis_count_hispanic_df.tail(20)"
   ]
  },
  {
   "cell_type": "markdown",
   "metadata": {},
   "source": [
    "## Extract, Count & Sort Emojis for Asian Ethnicity"
   ]
  },
  {
   "cell_type": "code",
   "execution_count": null,
   "metadata": {
    "scrolled": true
   },
   "outputs": [],
   "source": [
    "# Count emojis (Ethnicity Confidence: 0.8)\n",
    "count_asian = extract.count_all_emoji(joh_join_df.loc[(joh_join_df['ethnicity'] == 'asian')& (joh_join_df['ethnicity:confidence'].astype(float)>0.8)]['text'])\n",
    "\n",
    "# Create panda dataframe to store emojis with counts\n",
    "emojis_count_asian_df = pd.DataFrame(columns = ['Emoji','Count'])\n",
    "for emoji in count_asian:\n",
    "    emojis_count_asian_df = emojis_count_asian_df.append({'Emoji' : emoji , 'Count' : count_asian[emoji]} , ignore_index=True)\n",
    "\n",
    "# Sort dataframe by count\n",
    "emojis_count_asian_df = emojis_count_asian_df.sort_values(by=['Count'])\n",
    "emojis_count_asian_df.tail(20)"
   ]
  },
  {
   "cell_type": "markdown",
   "metadata": {},
   "source": [
    "## Top 15 Emojis Graph by Ethnicity"
   ]
  },
  {
   "cell_type": "code",
   "execution_count": null,
   "metadata": {
    "scrolled": false
   },
   "outputs": [],
   "source": [
    "ethnicities_list = ['Whites','Blacks','Hispanics','Asians']\n",
    "ethnicities_values =[emojis_count_white_df,emojis_count_black_df,emojis_count_hispanic_df,emojis_count_asian_df]\n",
    "ethnicities_graph_colours=['f2f2f2','a3a3a3','e1b68b','ffeeb7']\n",
    "\n",
    "for ind,ethn in enumerate(ethnicities_list):\n",
    "\n",
    "     # Top 15 Values\n",
    "    x = ethnicities_values[ind]['Emoji'].tail(15).values\n",
    "    y = ethnicities_values[ind]['Count'].tail(15).values\n",
    "\n",
    "    # Set linespacing\n",
    "    x_linespace = linspace(0, 4*pi, num=15)\n",
    "\n",
    "    # Plot Bar Chart\n",
    "    fig, ax = plt.subplots(figsize=(20,12))\n",
    "    ax.yaxis.set_major_formatter(formatter_millions)\n",
    "    ax.tick_params(axis='both', which='major', pad=10)\n",
    "    ax.set_facecolor('#{}'.format(ethnicities_graph_colours[ind]))\n",
    "    plt.grid(linestyle='-', linewidth=1,axis='y')\n",
    "    plt.bar(x_linespace, y, width=0.7, bottom=None, align='center')\n",
    "    ax.get_xaxis().set_visible(False)\n",
    "    #plt.xticks(x, fontproperties=emojis_font)  Old method\n",
    "    plt.yticks(fontsize =20)\n",
    "    plt.ylabel('Frequency', fontsize =30)\n",
    "    plt.title('Top 15 Emojis in Johannesburg from {}'.format(ethnicities_list[ind]), fontsize =40)\n",
    "    plt.tight_layout()\n",
    "\n",
    "    # Set sizes of figure and images\n",
    "    ax_width = ax.get_window_extent().width\n",
    "    fig_width = fig.get_window_extent().width\n",
    "    fig_height = fig.get_window_extent().height\n",
    "    img_size = ax_width/(fig_width*len(x_linespace))\n",
    "    img_axs = [None for i in range(len(x_linespace))]\n",
    "\n",
    "\n",
    "    # Display emojis pngs on x-axis\n",
    "    for i in range(len(x)):\n",
    "        loc = ax.transData.transform((x_linespace[i], 0)) # Optimize y manually \n",
    "        img_axs[i] = fig.add_axes([loc[0]/fig_width-img_size/2, loc[1]/fig_height-img_size/2,\n",
    "                                   img_size, img_size], anchor='C')\n",
    "\n",
    "        # Platform 5 = Twitter\n",
    "        img_axs[i].imshow(io.imread(Emojipedia.search(x[i]).platforms[5].image_url))\n",
    "        img_axs[i].axis(\"off\")\n",
    "\n",
    "    plt.show()"
   ]
  }
 ],
 "metadata": {
  "kernelspec": {
   "display_name": "Python 3",
   "language": "python",
   "name": "python3"
  },
  "language_info": {
   "codemirror_mode": {
    "name": "ipython",
    "version": 3
   },
   "file_extension": ".py",
   "mimetype": "text/x-python",
   "name": "python",
   "nbconvert_exporter": "python",
   "pygments_lexer": "ipython3",
   "version": "3.7.1"
  }
 },
 "nbformat": 4,
 "nbformat_minor": 2
}
