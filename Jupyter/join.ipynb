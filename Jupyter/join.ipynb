{
 "cells": [
  {
   "cell_type": "code",
   "execution_count": 1,
   "metadata": {},
   "outputs": [],
   "source": [
    "# System functionality\n",
    "import sys\n",
    "sys.path.append('..')\n",
    "\n",
    "import glob\n",
    "import os\n",
    "import numpy as np \n",
    "import pandas as pd\n",
    "import matplotlib as mpl\n",
    "import matplotlib.pyplot as plt\n",
    "import matplotlib.font_manager as font_manager\n",
    "import seaborn as sns\n",
    "import graphviz\n",
    "import math as math\n",
    "import json\n",
    "import cv2\n",
    "from matplotlib.ticker import FuncFormatter\n",
    "from matplotlib.font_manager import FontProperties\n",
    "from emoji_extractor.extract import Extractor\n",
    "from skimage import io"
   ]
  },
  {
   "cell_type": "code",
   "execution_count": 2,
   "metadata": {},
   "outputs": [],
   "source": [
    "path__tweets_csv = '/home/stelios/Desktop/Honours Project/Samples/tweet_data/tweets_joh_all.csv'\n",
    "path_users_csv = '/home/stelios/Desktop/Honours Project/Samples/user_data/joh.csv'\n",
    "joh_tweets_df = pd.read_csv(path__tweets_csv,index_col=None, header=0, low_memory = False).applymap(str)\n",
    "joh_users_df = pd.read_csv(path_users_csv,index_col=None, header=0, low_memory = False).applymap(str)"
   ]
  },
  {
   "cell_type": "code",
   "execution_count": 9,
   "metadata": {},
   "outputs": [
    {
     "data": {
      "text/plain": [
       "array(['nan', 'white', 'black', nan, 'hispanic', 'asian', 'other'],\n",
       "      dtype=object)"
      ]
     },
     "execution_count": 9,
     "metadata": {},
     "output_type": "execute_result"
    }
   ],
   "source": [
    "\n",
    "joh_join_df = joh_tweets_df.join(joh_users_df.set_index('user_id'), on='user_id')\n",
    "joh_join_df['ethnicity'].unique()"
   ]
  },
  {
   "cell_type": "code",
   "execution_count": 13,
   "metadata": {},
   "outputs": [
    {
     "data": {
      "text/plain": [
       "401        female\n",
       "402        female\n",
       "403        female\n",
       "404        female\n",
       "405        female\n",
       "406        female\n",
       "407        female\n",
       "408        female\n",
       "409        female\n",
       "410        female\n",
       "411        female\n",
       "412        female\n",
       "413        female\n",
       "414        female\n",
       "415        female\n",
       "416        female\n",
       "417        female\n",
       "418        female\n",
       "419        female\n",
       "420        female\n",
       "421        female\n",
       "422        female\n",
       "423        female\n",
       "424        female\n",
       "425        female\n",
       "426        female\n",
       "427        female\n",
       "428        female\n",
       "429        female\n",
       "430        female\n",
       "            ...  \n",
       "2631519    female\n",
       "2631520    female\n",
       "2631521    female\n",
       "2631522    female\n",
       "2631523    female\n",
       "2631524    female\n",
       "2631525    female\n",
       "2631526    female\n",
       "2631527    female\n",
       "2631528    female\n",
       "2631529    female\n",
       "2631530    female\n",
       "2631531    female\n",
       "2631532    female\n",
       "2631533    female\n",
       "2631534    female\n",
       "2631535    female\n",
       "2631536    female\n",
       "2631537    female\n",
       "2631538    female\n",
       "2631539    female\n",
       "2631540    female\n",
       "2631541    female\n",
       "2631542    female\n",
       "2631543    female\n",
       "2631544    female\n",
       "2631545    female\n",
       "2631546    female\n",
       "2631547    female\n",
       "2631548    female\n",
       "Name: gender, Length: 803041, dtype: object"
      ]
     },
     "execution_count": 13,
     "metadata": {},
     "output_type": "execute_result"
    }
   ],
   "source": [
    "#print(\"{} {} {}\".format(joh_tweets_df.shape,joh_users_df.shape,joh_join_df.shape))\n",
    "#pad =joh_join_df[\"gender\"]=='female'\n",
    "pad = joh_join_df.loc[(joh_join_df['gender'] == 'female')& (joh_join_df['gender:confidence'].astype(float)==1)]\n",
    "pad['gender']\n",
    "#joh_join_df.info()"
   ]
  },
  {
   "cell_type": "code",
   "execution_count": null,
   "metadata": {},
   "outputs": [],
   "source": [
    "a=\"0.98869865\"\n",
    "print(float64(a))"
   ]
  },
  {
   "cell_type": "code",
   "execution_count": null,
   "metadata": {},
   "outputs": [],
   "source": []
  },
  {
   "cell_type": "code",
   "execution_count": null,
   "metadata": {},
   "outputs": [],
   "source": []
  }
 ],
 "metadata": {
  "kernelspec": {
   "display_name": "Python 3",
   "language": "python",
   "name": "python3"
  },
  "language_info": {
   "codemirror_mode": {
    "name": "ipython",
    "version": 3
   },
   "file_extension": ".py",
   "mimetype": "text/x-python",
   "name": "python",
   "nbconvert_exporter": "python",
   "pygments_lexer": "ipython3",
   "version": "3.7.1"
  }
 },
 "nbformat": 4,
 "nbformat_minor": 2
}
